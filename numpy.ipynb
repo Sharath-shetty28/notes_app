{
 "cells": [
  {
   "cell_type": "code",
   "execution_count": 1,
   "id": "afb723ba",
   "metadata": {
    "execution": {
     "iopub.execute_input": "2025-06-06T05:17:26.709939Z",
     "iopub.status.busy": "2025-06-06T05:17:26.709675Z",
     "iopub.status.idle": "2025-06-06T05:17:28.780941Z",
     "shell.execute_reply": "2025-06-06T05:17:28.780326Z"
    },
    "papermill": {
     "duration": 2.077505,
     "end_time": "2025-06-06T05:17:28.782347",
     "exception": false,
     "start_time": "2025-06-06T05:17:26.704842",
     "status": "completed"
    },
    "tags": []
   },
   "outputs": [],
   "source": [
    "import numpy as np\n",
    "import pandas as pd"
   ]
  },
  {
   "cell_type": "code",
   "execution_count": 2,
   "id": "fc7a8ed8",
   "metadata": {
    "execution": {
     "iopub.execute_input": "2025-06-06T05:17:28.790083Z",
     "iopub.status.busy": "2025-06-06T05:17:28.789417Z",
     "iopub.status.idle": "2025-06-06T05:17:28.796003Z",
     "shell.execute_reply": "2025-06-06T05:17:28.795318Z"
    },
    "papermill": {
     "duration": 0.011259,
     "end_time": "2025-06-06T05:17:28.797098",
     "exception": false,
     "start_time": "2025-06-06T05:17:28.785839",
     "status": "completed"
    },
    "tags": []
   },
   "outputs": [
    {
     "name": "stdout",
     "output_type": "stream",
     "text": [
      "[1 2 3 4 5]\n"
     ]
    }
   ],
   "source": [
    "arr = np.array([1, 2, 3, 4, 5])\n",
    "print(arr)\n"
   ]
  },
  {
   "cell_type": "code",
   "execution_count": 3,
   "id": "0898a320",
   "metadata": {
    "execution": {
     "iopub.execute_input": "2025-06-06T05:17:28.804327Z",
     "iopub.status.busy": "2025-06-06T05:17:28.804145Z",
     "iopub.status.idle": "2025-06-06T05:17:28.808337Z",
     "shell.execute_reply": "2025-06-06T05:17:28.807569Z"
    },
    "papermill": {
     "duration": 0.009019,
     "end_time": "2025-06-06T05:17:28.809444",
     "exception": false,
     "start_time": "2025-06-06T05:17:28.800425",
     "status": "completed"
    },
    "tags": []
   },
   "outputs": [
    {
     "name": "stdout",
     "output_type": "stream",
     "text": [
      "[[1 2 3]\n",
      " [4 5 6]]\n"
     ]
    }
   ],
   "source": [
    "matrix = np.array([[1, 2, 3], [4, 5, 6]])\n",
    "print(matrix)\n"
   ]
  },
  {
   "cell_type": "code",
   "execution_count": 4,
   "id": "24855232",
   "metadata": {
    "execution": {
     "iopub.execute_input": "2025-06-06T05:17:28.816567Z",
     "iopub.status.busy": "2025-06-06T05:17:28.816362Z",
     "iopub.status.idle": "2025-06-06T05:17:28.820868Z",
     "shell.execute_reply": "2025-06-06T05:17:28.820240Z"
    },
    "papermill": {
     "duration": 0.009273,
     "end_time": "2025-06-06T05:17:28.821958",
     "exception": false,
     "start_time": "2025-06-06T05:17:28.812685",
     "status": "completed"
    },
    "tags": []
   },
   "outputs": [
    {
     "name": "stdout",
     "output_type": "stream",
     "text": [
      "(5,)\n",
      "(2, 3)\n",
      "int64\n",
      "6\n",
      "2\n",
      "1\n"
     ]
    }
   ],
   "source": [
    "print(arr.shape)      # (5,) means 1D array of length 5\n",
    "print(matrix.shape)   # (2, 3) means 2 rows, 3 columns\n",
    "\n",
    "print(arr.dtype)      # data type, e.g. int64 or float64\n",
    "print(matrix.size)    # total number of elements, e.g. 6\n",
    "print(matrix.ndim)       # number of dimensions, e.g. 1 or 2\n",
    "print(arr.ndim)  "
   ]
  },
  {
   "cell_type": "code",
   "execution_count": 5,
   "id": "7593981a",
   "metadata": {
    "execution": {
     "iopub.execute_input": "2025-06-06T05:17:28.828695Z",
     "iopub.status.busy": "2025-06-06T05:17:28.828466Z",
     "iopub.status.idle": "2025-06-06T05:17:28.835364Z",
     "shell.execute_reply": "2025-06-06T05:17:28.834679Z"
    },
    "papermill": {
     "duration": 0.011275,
     "end_time": "2025-06-06T05:17:28.836324",
     "exception": false,
     "start_time": "2025-06-06T05:17:28.825049",
     "status": "completed"
    },
    "tags": []
   },
   "outputs": [
    {
     "name": "stdout",
     "output_type": "stream",
     "text": [
      "[5 7 9]\n",
      "[ 4 10 18]\n",
      "[-3 -3 -3]\n",
      "[0.25 0.4  0.5 ]\n"
     ]
    }
   ],
   "source": [
    "a = np.array([1, 2, 3])\n",
    "b = np.array([4, 5, 6])\n",
    "\n",
    "print(a + b)   # [5 7 9]\n",
    "print(a * b)   # [4 10 18]\n",
    "print(a - b)   # [-3 -3 -3]\n",
    "print(a / b)   # [0.25 0.4 0.5]\n"
   ]
  },
  {
   "cell_type": "code",
   "execution_count": 6,
   "id": "179ecb15",
   "metadata": {
    "execution": {
     "iopub.execute_input": "2025-06-06T05:17:28.843268Z",
     "iopub.status.busy": "2025-06-06T05:17:28.843074Z",
     "iopub.status.idle": "2025-06-06T05:17:28.857363Z",
     "shell.execute_reply": "2025-06-06T05:17:28.856693Z"
    },
    "papermill": {
     "duration": 0.018983,
     "end_time": "2025-06-06T05:17:28.858467",
     "exception": false,
     "start_time": "2025-06-06T05:17:28.839484",
     "status": "completed"
    },
    "tags": []
   },
   "outputs": [
    {
     "name": "stdout",
     "output_type": "stream",
     "text": [
      "[1.         1.41421356 1.73205081]\n",
      "[ 2.71828183  7.3890561  20.08553692]\n",
      "[0.         0.69314718 1.09861229]\n",
      "[0.84147098 0.90929743 0.14112001]\n"
     ]
    }
   ],
   "source": [
    "print(np.sqrt(a))       # square root: [1. 1.414 1.732]\n",
    "print(np.exp(a))        # e^x\n",
    "print(np.log(a))        # natural log\n",
    "print(np.sin(a))        # sine values\n"
   ]
  },
  {
   "cell_type": "code",
   "execution_count": 7,
   "id": "9af8f2c2",
   "metadata": {
    "execution": {
     "iopub.execute_input": "2025-06-06T05:17:28.865892Z",
     "iopub.status.busy": "2025-06-06T05:17:28.865283Z",
     "iopub.status.idle": "2025-06-06T05:17:28.870503Z",
     "shell.execute_reply": "2025-06-06T05:17:28.869836Z"
    },
    "papermill": {
     "duration": 0.010011,
     "end_time": "2025-06-06T05:17:28.871714",
     "exception": false,
     "start_time": "2025-06-06T05:17:28.861703",
     "status": "completed"
    },
    "tags": []
   },
   "outputs": [
    {
     "name": "stdout",
     "output_type": "stream",
     "text": [
      "10\n",
      "[20 30 40]\n",
      "50\n",
      "2\n",
      "[3 6]\n"
     ]
    }
   ],
   "source": [
    "arr = np.array([10, 20, 30, 40, 50])\n",
    "\n",
    "print(arr[0])       # 10\n",
    "print(arr[1:4])     # [20 30 40]\n",
    "print(arr[-1])      # 50 (last element)\n",
    "\n",
    "# 2D array slicing\n",
    "matrix = np.array([[1, 2, 3], [4, 5, 6]])\n",
    "print(matrix[0, 1])     # 2 (row 0, col 1)\n",
    "print(matrix[:, 2])     # all rows, column 2 -> [3 6]\n"
   ]
  },
  {
   "cell_type": "code",
   "execution_count": 8,
   "id": "3850d152",
   "metadata": {
    "execution": {
     "iopub.execute_input": "2025-06-06T05:17:28.878966Z",
     "iopub.status.busy": "2025-06-06T05:17:28.878757Z",
     "iopub.status.idle": "2025-06-06T05:17:28.884051Z",
     "shell.execute_reply": "2025-06-06T05:17:28.883308Z"
    },
    "papermill": {
     "duration": 0.010005,
     "end_time": "2025-06-06T05:17:28.885110",
     "exception": false,
     "start_time": "2025-06-06T05:17:28.875105",
     "status": "completed"
    },
    "tags": []
   },
   "outputs": [
    {
     "name": "stdout",
     "output_type": "stream",
     "text": [
      "[ 0  1  2  3  4  5  6  7  8  9 10 11]\n",
      "[[ 0  1  2  3]\n",
      " [ 4  5  6  7]\n",
      " [ 8  9 10 11]]\n",
      "[[0. 0. 0. 0. 0. 0.]\n",
      " [0. 0. 0. 0. 0. 0.]\n",
      " [0. 0. 0. 0. 0. 0.]\n",
      " [0. 0. 0. 0. 0. 0.]]\n",
      "[1. 1. 1. 1.]\n"
     ]
    }
   ],
   "source": [
    "arr = np.arange(12)   # creates array 0 to 11\n",
    "print(arr)\n",
    "\n",
    "new_arr = arr.reshape(3, 4)  # 3 rows, 4 cols\n",
    "print(new_arr)\n",
    "\n",
    "zr=np.zeros((4,6))\n",
    "print(zr)\n",
    "\n",
    "zr=np.ones(4)\n",
    "print(zr)"
   ]
  },
  {
   "cell_type": "code",
   "execution_count": 9,
   "id": "4f910e3c",
   "metadata": {
    "execution": {
     "iopub.execute_input": "2025-06-06T05:17:28.892145Z",
     "iopub.status.busy": "2025-06-06T05:17:28.891957Z",
     "iopub.status.idle": "2025-06-06T05:17:28.895918Z",
     "shell.execute_reply": "2025-06-06T05:17:28.895390Z"
    },
    "papermill": {
     "duration": 0.008609,
     "end_time": "2025-06-06T05:17:28.896960",
     "exception": false,
     "start_time": "2025-06-06T05:17:28.888351",
     "status": "completed"
    },
    "tags": []
   },
   "outputs": [
    {
     "name": "stdout",
     "output_type": "stream",
     "text": [
      "[0.   0.25 0.5  0.75 1.  ]\n",
      "Step size: 0.25\n"
     ]
    }
   ],
   "source": [
    "arr, step = np.linspace(0, 1, 5, retstep=True)\n",
    "print(arr)\n",
    "print(\"Step size:\", step)\n"
   ]
  },
  {
   "cell_type": "code",
   "execution_count": 10,
   "id": "f927369e",
   "metadata": {
    "execution": {
     "iopub.execute_input": "2025-06-06T05:17:28.904128Z",
     "iopub.status.busy": "2025-06-06T05:17:28.903943Z",
     "iopub.status.idle": "2025-06-06T05:17:28.908609Z",
     "shell.execute_reply": "2025-06-06T05:17:28.907917Z"
    },
    "papermill": {
     "duration": 0.009517,
     "end_time": "2025-06-06T05:17:28.909713",
     "exception": false,
     "start_time": "2025-06-06T05:17:28.900196",
     "status": "completed"
    },
    "tags": []
   },
   "outputs": [
    {
     "name": "stdout",
     "output_type": "stream",
     "text": [
      "[ 1  2  3  4  5  6  7  8  9 10]\n",
      "[[ 1  2  3  4  5]\n",
      " [ 6  7  8  9 10]]\n",
      "[[ 3  6  9 12 15]\n",
      " [18 21 24 27 30]]\n",
      "Mean: 16.5\n"
     ]
    }
   ],
   "source": [
    "import numpy as np\n",
    "\n",
    "# 1. Create an array of numbers from 1 to 10\n",
    "arr = np.arange(1, 11)\n",
    "print(arr)\n",
    "\n",
    "# 2. Reshape it into 2 rows and 5 columns\n",
    "reshaped = arr.reshape(2, 5)\n",
    "print(reshaped)\n",
    "\n",
    "# 3. Multiply every element by 3\n",
    "multiplied = reshaped * 3\n",
    "print(multiplied)\n",
    "\n",
    "# 4. Print the mean of all elements\n",
    "print(\"Mean:\", multiplied.mean())\n"
   ]
  },
  {
   "cell_type": "markdown",
   "id": "043053ec",
   "metadata": {
    "papermill": {
     "duration": 0.003114,
     "end_time": "2025-06-06T05:17:28.916106",
     "exception": false,
     "start_time": "2025-06-06T05:17:28.912992",
     "status": "completed"
    },
    "tags": []
   },
   "source": [
    "**random number**"
   ]
  },
  {
   "cell_type": "code",
   "execution_count": 11,
   "id": "a5ba4367",
   "metadata": {
    "execution": {
     "iopub.execute_input": "2025-06-06T05:17:28.923272Z",
     "iopub.status.busy": "2025-06-06T05:17:28.923069Z",
     "iopub.status.idle": "2025-06-06T05:17:28.929293Z",
     "shell.execute_reply": "2025-06-06T05:17:28.928571Z"
    },
    "papermill": {
     "duration": 0.011112,
     "end_time": "2025-06-06T05:17:28.930380",
     "exception": false,
     "start_time": "2025-06-06T05:17:28.919268",
     "status": "completed"
    },
    "tags": []
   },
   "outputs": [
    {
     "name": "stdout",
     "output_type": "stream",
     "text": [
      "[0.63199228 0.7798083  0.73125334 0.26612768 0.76939517]\n",
      "[18 97 38 77 46]\n",
      "[ 0.18022831  1.57035984  0.32637368 -0.7293526 ]\n",
      "['Sara' 'John']\n",
      "[5 4 1 2 3]\n",
      "[0.37454012 0.95071431 0.73199394]\n"
     ]
    }
   ],
   "source": [
    "import numpy as np\n",
    "\n",
    "a = np.random.rand(5)\n",
    "print(a)  # Example: [0.62 0.19 0.47 0.88 0.03]\n",
    "\n",
    "b = np.random.randint(10, 100, size=5)\n",
    "print(b)  # Example: [23 45 78 66 90]\n",
    "\n",
    "c = np.random.randn(4)\n",
    "print(c)  # Example: [-0.54  0.12 -1.02  1.88]\n",
    "\n",
    "names = ['Raj', 'Sara', 'Maya', 'John']\n",
    "picked = np.random.choice(names, size=2)\n",
    "print(picked)\n",
    "\n",
    "\n",
    "arr = np.array([1, 2, 3, 4, 5])\n",
    "np.random.shuffle(arr)\n",
    "print(arr)\n",
    "\n",
    "\n",
    "np.random.seed(42)\n",
    "print(np.random.rand(3))  # Same output every time you run this\n"
   ]
  },
  {
   "cell_type": "code",
   "execution_count": 12,
   "id": "8d714659",
   "metadata": {
    "execution": {
     "iopub.execute_input": "2025-06-06T05:17:28.938013Z",
     "iopub.status.busy": "2025-06-06T05:17:28.937813Z",
     "iopub.status.idle": "2025-06-06T05:17:28.958800Z",
     "shell.execute_reply": "2025-06-06T05:17:28.958158Z"
    },
    "papermill": {
     "duration": 0.025952,
     "end_time": "2025-06-06T05:17:28.959842",
     "exception": false,
     "start_time": "2025-06-06T05:17:28.933890",
     "status": "completed"
    },
    "tags": []
   },
   "outputs": [
    {
     "name": "stdout",
     "output_type": "stream",
     "text": [
      "Array a: [1 2 3]\n",
      "Array b:\n",
      " [[1 2]\n",
      " [3 4]]\n",
      "Shape of b: (2, 2)\n",
      "Dimension of b: 2\n",
      "Reshaped (3x3):\n",
      " [[1 2 3]\n",
      " [4 5 6]\n",
      " [7 8 9]]\n",
      "Zeros:\n",
      " [[0. 0. 0.]\n",
      " [0. 0. 0.]]\n",
      "Ones:\n",
      " [[1. 1. 1.]\n",
      " [1. 1. 1.]]\n",
      "Full:\n",
      " [[7 7]\n",
      " [7 7]]\n",
      "Identity:\n",
      " [[1. 0. 0.]\n",
      " [0. 1. 0.]\n",
      " [0. 0. 1.]]\n",
      "Arange: [0 2 4 6 8]\n",
      "Linspace: [1.         2.33333333 3.66666667 5.        ]\n",
      "Addition: [11 22 33]\n",
      "Multiplication: [10 40 90]\n",
      "Max: 9\n",
      "Min: 1\n",
      "Mean: 4.6\n",
      "Sum: 23\n",
      "Column sum: [5 7 9]\n",
      "Row sum: [ 6 15]\n",
      "Transpose:\n",
      " [[1 4]\n",
      " [2 5]\n",
      " [3 6]]\n",
      "Flattened: [1 2 3 4 5 6]\n",
      "Concatenate: [1 2 3 4]\n",
      "Unique values: [1 2 3 4]\n",
      "Sorted: [1 2 3 4]\n"
     ]
    },
    {
     "data": {
      "text/plain": [
       "3"
      ]
     },
     "execution_count": 12,
     "metadata": {},
     "output_type": "execute_result"
    }
   ],
   "source": [
    "import numpy as np\n",
    "\n",
    "# 1. Create arrays\n",
    "a = np.array([1, 2, 3])\n",
    "b = np.array([[1, 2], [3, 4]])\n",
    "print(\"Array a:\", a)\n",
    "print(\"Array b:\\n\", b)\n",
    "\n",
    "# 2. Check shape and dimension\n",
    "print(\"Shape of b:\", b.shape)\n",
    "print(\"Dimension of b:\", b.ndim)\n",
    "\n",
    "# 3. Reshape\n",
    "c = np.arange(1, 10)         # [1 2 3 4 5 6 7 8 9]\n",
    "print(\"Reshaped (3x3):\\n\", c.reshape(3, 3))\n",
    "\n",
    "# 4. Zeros, Ones, Full\n",
    "print(\"Zeros:\\n\", np.zeros((2, 3)))\n",
    "print(\"Ones:\\n\", np.ones((2, 3)))\n",
    "print(\"Full:\\n\", np.full((2, 2), 7))\n",
    "\n",
    "# 5. Identity matrix\n",
    "print(\"Identity:\\n\", np.eye(3))\n",
    "\n",
    "# 6. Arange and Linspace\n",
    "print(\"Arange:\", np.arange(0, 10, 2))        # [0 2 4 6 8]\n",
    "print(\"Linspace:\", np.linspace(1, 5, 4))     # [1. 2.33 3.66 5.]\n",
    "\n",
    "# 7. Basic operations\n",
    "x = np.array([10, 20, 30])\n",
    "y = np.array([1, 2, 3])\n",
    "print(\"Addition:\", x + y)\n",
    "print(\"Multiplication:\", x * y)\n",
    "\n",
    "# 8. Aggregate functions\n",
    "data = np.array([4, 7, 1, 9, 2])\n",
    "print(\"Max:\", np.max(data))\n",
    "print(\"Min:\", np.min(data))\n",
    "print(\"Mean:\", np.mean(data))\n",
    "print(\"Sum:\", np.sum(data))\n",
    "\n",
    "# 9. Axis-wise operations\n",
    "mat = np.array([[1, 2, 3], [4, 5, 6]])\n",
    "print(\"Column sum:\", np.sum(mat, axis=0))  # Sum by column\n",
    "print(\"Row sum:\", np.sum(mat, axis=1))     # Sum by row\n",
    "\n",
    "# 10. Transpose\n",
    "print(\"Transpose:\\n\", mat.T)\n",
    "\n",
    "# 11. Flatten\n",
    "print(\"Flattened:\", mat.flatten())\n",
    "\n",
    "# 12. Concatenate arrays\n",
    "arr1 = np.array([1, 2])\n",
    "arr2 = np.array([3, 4])\n",
    "print(\"Concatenate:\", np.concatenate([arr1, arr2]))\n",
    "\n",
    "# 13. Unique values\n",
    "print(\"Unique values:\", np.unique([1, 2, 2, 3, 4, 4, 4]))\n",
    "\n",
    "# 14. Sorting\n",
    "print(\"Sorted:\", np.sort([4, 1, 3, 2]))\n",
    "\n",
    "b.argmin()\n",
    "b.argmax()"
   ]
  },
  {
   "cell_type": "code",
   "execution_count": 13,
   "id": "934d6056",
   "metadata": {
    "execution": {
     "iopub.execute_input": "2025-06-06T05:17:28.968154Z",
     "iopub.status.busy": "2025-06-06T05:17:28.967958Z",
     "iopub.status.idle": "2025-06-06T05:17:28.973589Z",
     "shell.execute_reply": "2025-06-06T05:17:28.973074Z"
    },
    "papermill": {
     "duration": 0.010844,
     "end_time": "2025-06-06T05:17:28.974639",
     "exception": false,
     "start_time": "2025-06-06T05:17:28.963795",
     "status": "completed"
    },
    "tags": []
   },
   "outputs": [
    {
     "name": "stdout",
     "output_type": "stream",
     "text": [
      "[[ 1  2  3  4  5]\n",
      " [ 6  7  8  9 10]\n",
      " [11 12 13 14 15]\n",
      " [16 17 18 19 20]\n",
      " [21 22 23 24 25]\n",
      " [26 27 28 29 30]]\n",
      "[1 2 3 4 5]\n",
      "[ 2  7 12 17 22 27]\n"
     ]
    },
    {
     "data": {
      "text/plain": [
       "array([[2, 3],\n",
       "       [7, 8]])"
      ]
     },
     "execution_count": 13,
     "metadata": {},
     "output_type": "execute_result"
    }
   ],
   "source": [
    "a1=np.arange(1,31).reshape(6,5)\n",
    "print(a1)\n",
    "\n",
    "print(a1[0])\n",
    "\n",
    "print(a1[:,1])\n",
    "\n",
    "a1[0:2,1:3]"
   ]
  },
  {
   "cell_type": "code",
   "execution_count": 14,
   "id": "6c2964c4",
   "metadata": {
    "execution": {
     "iopub.execute_input": "2025-06-06T05:17:28.982714Z",
     "iopub.status.busy": "2025-06-06T05:17:28.982503Z",
     "iopub.status.idle": "2025-06-06T05:17:28.987085Z",
     "shell.execute_reply": "2025-06-06T05:17:28.986422Z"
    },
    "papermill": {
     "duration": 0.009425,
     "end_time": "2025-06-06T05:17:28.988028",
     "exception": false,
     "start_time": "2025-06-06T05:17:28.978603",
     "status": "completed"
    },
    "tags": []
   },
   "outputs": [
    {
     "name": "stdout",
     "output_type": "stream",
     "text": [
      "Original array: [ 2  5  7 10  1  6]\n",
      "Condition mask: [False False  True  True False  True]\n",
      "Filtered result: [ 7 10  6]\n"
     ]
    }
   ],
   "source": [
    "import numpy as np\n",
    "\n",
    "arr = np.array([2, 5, 7, 10, 1, 6])\n",
    "print(\"Original array:\", arr)\n",
    "\n",
    "# Condition\n",
    "condition = arr > 5\n",
    "print(\"Condition mask:\", condition)\n",
    "\n",
    "# Filter\n",
    "filtered = arr[arr > 5]\n",
    "print(\"Filtered result:\", filtered)\n"
   ]
  },
  {
   "cell_type": "code",
   "execution_count": 15,
   "id": "0c3aa408",
   "metadata": {
    "execution": {
     "iopub.execute_input": "2025-06-06T05:17:28.995903Z",
     "iopub.status.busy": "2025-06-06T05:17:28.995728Z",
     "iopub.status.idle": "2025-06-06T05:17:29.000300Z",
     "shell.execute_reply": "2025-06-06T05:17:28.999710Z"
    },
    "papermill": {
     "duration": 0.009802,
     "end_time": "2025-06-06T05:17:29.001361",
     "exception": false,
     "start_time": "2025-06-06T05:17:28.991559",
     "status": "completed"
    },
    "tags": []
   },
   "outputs": [
    {
     "name": "stdout",
     "output_type": "stream",
     "text": [
      "Vertical Stack:\n",
      " [[1 2 3]\n",
      " [4 5 6]]\n",
      "Horizontal Stack:\n",
      " [1 2 3 4 5 6]\n"
     ]
    }
   ],
   "source": [
    "a = np.array([1, 2, 3])\n",
    "b = np.array([4, 5, 6])\n",
    "\n",
    "# Stack vertically (rows)\n",
    "v_stack = np.vstack((a, b))\n",
    "print(\"Vertical Stack:\\n\", v_stack)\n",
    "\n",
    "# Stack horizontally (columns)\n",
    "h_stack = np.hstack((a, b))\n",
    "print(\"Horizontal Stack:\\n\", h_stack)\n"
   ]
  },
  {
   "cell_type": "markdown",
   "id": "4e5b923e",
   "metadata": {
    "papermill": {
     "duration": 0.00365,
     "end_time": "2025-06-06T05:17:29.008792",
     "exception": false,
     "start_time": "2025-06-06T05:17:29.005142",
     "status": "completed"
    },
    "tags": []
   },
   "source": [
    "**broadcasting**"
   ]
  },
  {
   "cell_type": "code",
   "execution_count": 16,
   "id": "522cb822",
   "metadata": {
    "execution": {
     "iopub.execute_input": "2025-06-06T05:17:29.016528Z",
     "iopub.status.busy": "2025-06-06T05:17:29.016356Z",
     "iopub.status.idle": "2025-06-06T05:17:29.020847Z",
     "shell.execute_reply": "2025-06-06T05:17:29.020254Z"
    },
    "papermill": {
     "duration": 0.009671,
     "end_time": "2025-06-06T05:17:29.021993",
     "exception": false,
     "start_time": "2025-06-06T05:17:29.012322",
     "status": "completed"
    },
    "tags": []
   },
   "outputs": [
    {
     "data": {
      "text/plain": [
       "array([14, 15, 16])"
      ]
     },
     "execution_count": 16,
     "metadata": {},
     "output_type": "execute_result"
    }
   ],
   "source": [
    "c = np.array([4, 5, 6])\n",
    "\n",
    "c+10"
   ]
  },
  {
   "cell_type": "code",
   "execution_count": 17,
   "id": "f04b1337",
   "metadata": {
    "execution": {
     "iopub.execute_input": "2025-06-06T05:17:29.030725Z",
     "iopub.status.busy": "2025-06-06T05:17:29.030491Z",
     "iopub.status.idle": "2025-06-06T05:17:29.035088Z",
     "shell.execute_reply": "2025-06-06T05:17:29.034370Z"
    },
    "papermill": {
     "duration": 0.010038,
     "end_time": "2025-06-06T05:17:29.036061",
     "exception": false,
     "start_time": "2025-06-06T05:17:29.026023",
     "status": "completed"
    },
    "tags": []
   },
   "outputs": [
    {
     "name": "stdout",
     "output_type": "stream",
     "text": [
      "[4 5 6]\n",
      "[1 5 6]\n",
      "[10  5  6]\n",
      "[1 5 6]\n"
     ]
    }
   ],
   "source": [
    "c = np.array([4, 5, 6])\n",
    "\n",
    "#shallow copy\n",
    "a=c\n",
    "print(a)\n",
    "\n",
    "a[0]=1\n",
    "\n",
    "print(a)\n",
    "\n",
    "#deep copy\n",
    "\n",
    "b=c.copy()\n",
    "\n",
    "b[0]=10\n",
    "print(b)\n",
    "\n",
    "print(c)"
   ]
  },
  {
   "cell_type": "markdown",
   "id": "f4eb52e2",
   "metadata": {
    "papermill": {
     "duration": 0.003689,
     "end_time": "2025-06-06T05:17:29.043457",
     "exception": false,
     "start_time": "2025-06-06T05:17:29.039768",
     "status": "completed"
    },
    "tags": []
   },
   "source": [
    "**mulptication**"
   ]
  },
  {
   "cell_type": "code",
   "execution_count": 18,
   "id": "9e520392",
   "metadata": {
    "execution": {
     "iopub.execute_input": "2025-06-06T05:17:29.051382Z",
     "iopub.status.busy": "2025-06-06T05:17:29.051190Z",
     "iopub.status.idle": "2025-06-06T05:17:29.057102Z",
     "shell.execute_reply": "2025-06-06T05:17:29.056481Z"
    },
    "papermill": {
     "duration": 0.011227,
     "end_time": "2025-06-06T05:17:29.058251",
     "exception": false,
     "start_time": "2025-06-06T05:17:29.047024",
     "status": "completed"
    },
    "tags": []
   },
   "outputs": [
    {
     "name": "stdout",
     "output_type": "stream",
     "text": [
      "[[19 22]\n",
      " [43 50]]\n"
     ]
    },
    {
     "data": {
      "text/plain": [
       "array([[1, 5],\n",
       "       [2, 6],\n",
       "       [3, 7],\n",
       "       [4, 8]])"
      ]
     },
     "execution_count": 18,
     "metadata": {},
     "output_type": "execute_result"
    }
   ],
   "source": [
    "a=np.array([[1,2],[3,4]])\n",
    "b=np.array([[5,6],[7,8]])\n",
    "\n",
    "print(a@b)\n",
    "\n",
    "x=np.array([1,2,3,4])\n",
    "y=np.array([5,6,7,8])\n",
    "\n",
    "np.column_stack((x,y))\n",
    "\n",
    "#split the stack\n",
    "\n",
    "#vsplit and hsplit "
   ]
  }
 ],
 "metadata": {
  "kaggle": {
   "accelerator": "nvidiaTeslaT4",
   "dataSources": [],
   "dockerImageVersionId": 31040,
   "isGpuEnabled": true,
   "isInternetEnabled": true,
   "language": "python",
   "sourceType": "notebook"
  },
  "kernelspec": {
   "display_name": "Python 3",
   "language": "python",
   "name": "python3"
  },
  "language_info": {
   "codemirror_mode": {
    "name": "ipython",
    "version": 3
   },
   "file_extension": ".py",
   "mimetype": "text/x-python",
   "name": "python",
   "nbconvert_exporter": "python",
   "pygments_lexer": "ipython3",
   "version": "3.11.11"
  },
  "papermill": {
   "default_parameters": {},
   "duration": 8.700193,
   "end_time": "2025-06-06T05:17:29.478448",
   "environment_variables": {},
   "exception": null,
   "input_path": "__notebook__.ipynb",
   "output_path": "__notebook__.ipynb",
   "parameters": {},
   "start_time": "2025-06-06T05:17:20.778255",
   "version": "2.6.0"
  }
 },
 "nbformat": 4,
 "nbformat_minor": 5
}
